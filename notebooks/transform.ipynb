{
 "cells": [
  {
   "cell_type": "markdown",
   "metadata": {},
   "source": [
    "# Data Cleaning Pipeline Documentation\n",
    "\n",
    "## Script Purpose\n",
    "\n",
    "This Python script performs critical data cleaning operations on raw e-commerce data to prepare it for analysis and database loading.\n",
    "\n",
    "## Dependencies\n",
    "\n",
    "```python\n",
    "import pandas as pd  # Requires pandas v1.0+\n",
    "```\n"
   ]
  },
  {
   "cell_type": "code",
   "execution_count": 5,
   "metadata": {},
   "outputs": [],
   "source": [
    "import pandas as pd\n",
    "\n",
    "\n",
    "df = pd.read_csv(\"../data/amazon.csv\")\n",
    "\n",
    "\n",
    "df['discounted_price'] = df['discounted_price'].str.replace('₹', '', regex=False).str.replace(',', '').astype(float)\n",
    "df['actual_price'] = df['actual_price'].str.replace('₹', '', regex=False).str.replace(',', '').astype(float)\n",
    "df['discount_percentage'] = df['discount_percentage'].str.replace('%', '', regex=False).astype(float)\n",
    "\n",
    "\n",
    "df = df.dropna(subset=['product_id', 'actual_price', 'rating'])\n",
    "df['rating_count'] = (\n",
    "    df['rating_count']\n",
    "    .str.replace(',', '', regex=True) \n",
    "    .fillna(0)                         \n",
    "    .astype(int)                      \n",
    ")\n",
    "\n",
    "\n",
    "df.to_csv(\"../data/cleaned_data.csv\", index=False)"
   ]
  }
 ],
 "metadata": {
  "kernelspec": {
   "display_name": "bdbi",
   "language": "python",
   "name": "python3"
  },
  "language_info": {
   "codemirror_mode": {
    "name": "ipython",
    "version": 3
   },
   "file_extension": ".py",
   "mimetype": "text/x-python",
   "name": "python",
   "nbconvert_exporter": "python",
   "pygments_lexer": "ipython3",
   "version": "3.9.21"
  }
 },
 "nbformat": 4,
 "nbformat_minor": 2
}
